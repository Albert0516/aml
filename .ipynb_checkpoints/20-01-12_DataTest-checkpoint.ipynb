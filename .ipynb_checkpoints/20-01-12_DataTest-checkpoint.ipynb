{
 "cells": [
  {
   "cell_type": "code",
   "execution_count": 1,
   "metadata": {},
   "outputs": [],
   "source": [
    "import pandas as pd\n",
    "import numpy as py\n",
    "from sklearn.ensemble import RandomForestClassifier\n",
    "from sklearn.tree import DecisionTreeClassifier\n",
    "from sklearn.model_selection import train_test_split"
   ]
  },
  {
   "cell_type": "code",
   "execution_count": 2,
   "metadata": {},
   "outputs": [
    {
     "name": "stderr",
     "output_type": "stream",
     "text": [
      "c:\\users\\86300\\pycharmprojects\\aml\\venv\\lib\\site-packages\\IPython\\core\\interactiveshell.py:3051: DtypeWarning: Columns (0,1,2,3,4,5,6,7,8,9,10,11,12,13,14,15,16,17,18,19,20,21,22,23,24,25,26,27,28,29,30,31,32,33,34,35,36,37,38,39,40,41,42,43,44,45,46,47,48,49,50,51,52,53,54,55,56,57,58,59,60,61,62,63,64,65) have mixed types. Specify dtype option on import or set low_memory=False.\n",
      "  interactivity=interactivity, compiler=compiler, result=result)\n"
     ]
    }
   ],
   "source": [
    "x_data = pd.DataFrame(pd.read_csv('D:\\jupyter\\Methylation.csv',header=0,index_col=66)) "
   ]
  },
  {
   "cell_type": "code",
   "execution_count": 3,
   "metadata": {},
   "outputs": [],
   "source": [
    "#以病人的id作为列索引.从第2行开始读取\n",
    "x_id = x_data.iloc[1:]\n",
    "#x_data.dtypes"
   ]
  },
  {
   "cell_type": "code",
   "execution_count": 4,
   "metadata": {},
   "outputs": [],
   "source": [
    "#转置\n",
    "x_reshape=x_id.T"
   ]
  },
  {
   "cell_type": "code",
   "execution_count": 5,
   "metadata": {},
   "outputs": [
    {
     "data": {
      "text/plain": [
       "(66, 663827)"
      ]
     },
     "execution_count": 5,
     "metadata": {},
     "output_type": "execute_result"
    }
   ],
   "source": [
    "x_reshape.shape"
   ]
  },
  {
   "cell_type": "code",
   "execution_count": 6,
   "metadata": {},
   "outputs": [
    {
     "data": {
      "text/html": [
       "<div>\n",
       "<style scoped>\n",
       "    .dataframe tbody tr th:only-of-type {\n",
       "        vertical-align: middle;\n",
       "    }\n",
       "\n",
       "    .dataframe tbody tr th {\n",
       "        vertical-align: top;\n",
       "    }\n",
       "\n",
       "    .dataframe thead th {\n",
       "        text-align: right;\n",
       "    }\n",
       "</style>\n",
       "<table border=\"1\" class=\"dataframe\">\n",
       "  <thead>\n",
       "    <tr style=\"text-align: right;\">\n",
       "      <th></th>\n",
       "      <th>PTPRS</th>\n",
       "      <th>ITPK1</th>\n",
       "      <th>JARID2</th>\n",
       "      <th>JARID2</th>\n",
       "      <th>NBPF20</th>\n",
       "      <th>NBPF20</th>\n",
       "      <th>NBPF20</th>\n",
       "      <th>MORF4L1</th>\n",
       "      <th>TBC1D24</th>\n",
       "      <th>OR8G1</th>\n",
       "      <th>...</th>\n",
       "      <th>EMP2</th>\n",
       "      <th>BANP</th>\n",
       "      <th>TBCD</th>\n",
       "      <th>RNPS1</th>\n",
       "      <th>CHST6</th>\n",
       "      <th>SLC38A2</th>\n",
       "      <th>6-Mar</th>\n",
       "      <th>SYNJ1</th>\n",
       "      <th>NTN5</th>\n",
       "      <th>NTN5</th>\n",
       "    </tr>\n",
       "  </thead>\n",
       "  <tbody>\n",
       "    <tr>\n",
       "      <th>047</th>\n",
       "      <td>0.939358638</td>\n",
       "      <td>0.030046451</td>\n",
       "      <td>0.018400715</td>\n",
       "      <td>0.018400715</td>\n",
       "      <td>0.97252672</td>\n",
       "      <td>0.97252672</td>\n",
       "      <td>0.97252672</td>\n",
       "      <td>0.725564722</td>\n",
       "      <td>0.900509671</td>\n",
       "      <td>0.981647151</td>\n",
       "      <td>...</td>\n",
       "      <td>0.968172</td>\n",
       "      <td>0.902462</td>\n",
       "      <td>0.910461</td>\n",
       "      <td>0.733044</td>\n",
       "      <td>0.315276</td>\n",
       "      <td>0.00950484</td>\n",
       "      <td>0.00968838</td>\n",
       "      <td>0.749168</td>\n",
       "      <td>0.963387</td>\n",
       "      <td>0.963387</td>\n",
       "    </tr>\n",
       "    <tr>\n",
       "      <th>048</th>\n",
       "      <td>0.932434087</td>\n",
       "      <td>0.016749009</td>\n",
       "      <td>0.012394616</td>\n",
       "      <td>0.012394616</td>\n",
       "      <td>0.947042586</td>\n",
       "      <td>0.947042586</td>\n",
       "      <td>0.947042586</td>\n",
       "      <td>0.359462468</td>\n",
       "      <td>0.913342585</td>\n",
       "      <td>0.976811811</td>\n",
       "      <td>...</td>\n",
       "      <td>0.964142</td>\n",
       "      <td>0.789957</td>\n",
       "      <td>0.88849</td>\n",
       "      <td>0.732056</td>\n",
       "      <td>0.414313</td>\n",
       "      <td>0.0063113</td>\n",
       "      <td>0.0066306</td>\n",
       "      <td>0.79246</td>\n",
       "      <td>0.952832</td>\n",
       "      <td>0.952832</td>\n",
       "    </tr>\n",
       "    <tr>\n",
       "      <th>049</th>\n",
       "      <td>0.948112616</td>\n",
       "      <td>0.023318525</td>\n",
       "      <td>0.01303935</td>\n",
       "      <td>0.01303935</td>\n",
       "      <td>0.970545077</td>\n",
       "      <td>0.970545077</td>\n",
       "      <td>0.970545077</td>\n",
       "      <td>0.664358528</td>\n",
       "      <td>0.817598465</td>\n",
       "      <td>0.953283771</td>\n",
       "      <td>...</td>\n",
       "      <td>0.971285</td>\n",
       "      <td>0.770995</td>\n",
       "      <td>0.884876</td>\n",
       "      <td>0.723788</td>\n",
       "      <td>0.398355</td>\n",
       "      <td>0.00541983</td>\n",
       "      <td>0.00748246</td>\n",
       "      <td>0.810468</td>\n",
       "      <td>0.972101</td>\n",
       "      <td>0.972101</td>\n",
       "    </tr>\n",
       "    <tr>\n",
       "      <th>050</th>\n",
       "      <td>0.939991017</td>\n",
       "      <td>0.019263045</td>\n",
       "      <td>0.015816588</td>\n",
       "      <td>0.015816588</td>\n",
       "      <td>0.967688823</td>\n",
       "      <td>0.967688823</td>\n",
       "      <td>0.967688823</td>\n",
       "      <td>0.587711466</td>\n",
       "      <td>0.838871016</td>\n",
       "      <td>0.916976496</td>\n",
       "      <td>...</td>\n",
       "      <td>0.968642</td>\n",
       "      <td>0.936802</td>\n",
       "      <td>0.892965</td>\n",
       "      <td>0.733599</td>\n",
       "      <td>0.426442</td>\n",
       "      <td>0.00244892</td>\n",
       "      <td>0.00867456</td>\n",
       "      <td>0.747421</td>\n",
       "      <td>0.94709</td>\n",
       "      <td>0.94709</td>\n",
       "    </tr>\n",
       "    <tr>\n",
       "      <th>014</th>\n",
       "      <td>0.862317569</td>\n",
       "      <td>0.024858933</td>\n",
       "      <td>0.02114024</td>\n",
       "      <td>0.02114024</td>\n",
       "      <td>0.971281178</td>\n",
       "      <td>0.971281178</td>\n",
       "      <td>0.971281178</td>\n",
       "      <td>0.600037305</td>\n",
       "      <td>0.859663984</td>\n",
       "      <td>0.937143282</td>\n",
       "      <td>...</td>\n",
       "      <td>0.955842</td>\n",
       "      <td>0.930599</td>\n",
       "      <td>0.904201</td>\n",
       "      <td>0.743525</td>\n",
       "      <td>0.358386</td>\n",
       "      <td>0.00577477</td>\n",
       "      <td>0.0160836</td>\n",
       "      <td>0.852471</td>\n",
       "      <td>0.958893</td>\n",
       "      <td>0.958893</td>\n",
       "    </tr>\n",
       "  </tbody>\n",
       "</table>\n",
       "<p>5 rows × 663827 columns</p>\n",
       "</div>"
      ],
      "text/plain": [
       "           PTPRS        ITPK1       JARID2       JARID2       NBPF20  \\\n",
       "047  0.939358638  0.030046451  0.018400715  0.018400715   0.97252672   \n",
       "048  0.932434087  0.016749009  0.012394616  0.012394616  0.947042586   \n",
       "049  0.948112616  0.023318525   0.01303935   0.01303935  0.970545077   \n",
       "050  0.939991017  0.019263045  0.015816588  0.015816588  0.967688823   \n",
       "014  0.862317569  0.024858933   0.02114024   0.02114024  0.971281178   \n",
       "\n",
       "          NBPF20       NBPF20      MORF4L1      TBC1D24        OR8G1  ...  \\\n",
       "047   0.97252672   0.97252672  0.725564722  0.900509671  0.981647151  ...   \n",
       "048  0.947042586  0.947042586  0.359462468  0.913342585  0.976811811  ...   \n",
       "049  0.970545077  0.970545077  0.664358528  0.817598465  0.953283771  ...   \n",
       "050  0.967688823  0.967688823  0.587711466  0.838871016  0.916976496  ...   \n",
       "014  0.971281178  0.971281178  0.600037305  0.859663984  0.937143282  ...   \n",
       "\n",
       "         EMP2      BANP      TBCD     RNPS1     CHST6     SLC38A2       6-Mar  \\\n",
       "047  0.968172  0.902462  0.910461  0.733044  0.315276  0.00950484  0.00968838   \n",
       "048  0.964142  0.789957   0.88849  0.732056  0.414313   0.0063113   0.0066306   \n",
       "049  0.971285  0.770995  0.884876  0.723788  0.398355  0.00541983  0.00748246   \n",
       "050  0.968642  0.936802  0.892965  0.733599  0.426442  0.00244892  0.00867456   \n",
       "014  0.955842  0.930599  0.904201  0.743525  0.358386  0.00577477   0.0160836   \n",
       "\n",
       "        SYNJ1      NTN5      NTN5  \n",
       "047  0.749168  0.963387  0.963387  \n",
       "048   0.79246  0.952832  0.952832  \n",
       "049  0.810468  0.972101  0.972101  \n",
       "050  0.747421   0.94709   0.94709  \n",
       "014  0.852471  0.958893  0.958893  \n",
       "\n",
       "[5 rows x 663827 columns]"
      ]
     },
     "execution_count": 6,
     "metadata": {},
     "output_type": "execute_result"
    }
   ],
   "source": [
    "x_reshape.head()"
   ]
  },
  {
   "cell_type": "code",
   "execution_count": 7,
   "metadata": {},
   "outputs": [],
   "source": [
    "#x_reshape.info"
   ]
  },
  {
   "cell_type": "code",
   "execution_count": 9,
   "metadata": {},
   "outputs": [],
   "source": [
    "y_data = pd.DataFrame(pd.read_csv('./drug_sensity_num.csv',usecols=[4,5]))\n",
    "#y_data = pd.DataFrame(pd.read_csv('D:\\jupyter\\drug_sensity_num.csv'))"
   ]
  },
  {
   "cell_type": "code",
   "execution_count": 10,
   "metadata": {},
   "outputs": [
    {
     "data": {
      "text/html": [
       "<div>\n",
       "<style scoped>\n",
       "    .dataframe tbody tr th:only-of-type {\n",
       "        vertical-align: middle;\n",
       "    }\n",
       "\n",
       "    .dataframe tbody tr th {\n",
       "        vertical-align: top;\n",
       "    }\n",
       "\n",
       "    .dataframe thead th {\n",
       "        text-align: right;\n",
       "    }\n",
       "</style>\n",
       "<table border=\"1\" class=\"dataframe\">\n",
       "  <thead>\n",
       "    <tr style=\"text-align: right;\">\n",
       "      <th></th>\n",
       "      <th>sensity</th>\n",
       "      <th>name</th>\n",
       "    </tr>\n",
       "  </thead>\n",
       "  <tbody>\n",
       "    <tr>\n",
       "      <th>0</th>\n",
       "      <td>高度敏感</td>\n",
       "      <td>014 杨立柯</td>\n",
       "    </tr>\n",
       "    <tr>\n",
       "      <th>1</th>\n",
       "      <td>高度敏感</td>\n",
       "      <td>014 杨立柯</td>\n",
       "    </tr>\n",
       "    <tr>\n",
       "      <th>2</th>\n",
       "      <td>高度敏感</td>\n",
       "      <td>014 杨立柯</td>\n",
       "    </tr>\n",
       "    <tr>\n",
       "      <th>3</th>\n",
       "      <td>不敏感</td>\n",
       "      <td>014 杨立柯</td>\n",
       "    </tr>\n",
       "    <tr>\n",
       "      <th>4</th>\n",
       "      <td>低度敏感</td>\n",
       "      <td>014 杨立柯</td>\n",
       "    </tr>\n",
       "  </tbody>\n",
       "</table>\n",
       "</div>"
      ],
      "text/plain": [
       "  sensity     name\n",
       "0    高度敏感  014 杨立柯\n",
       "1    高度敏感  014 杨立柯\n",
       "2    高度敏感  014 杨立柯\n",
       "3     不敏感  014 杨立柯\n",
       "4    低度敏感  014 杨立柯"
      ]
     },
     "execution_count": 10,
     "metadata": {},
     "output_type": "execute_result"
    }
   ],
   "source": [
    "y_data.head()"
   ]
  },
  {
   "cell_type": "code",
   "execution_count": 11,
   "metadata": {},
   "outputs": [],
   "source": [
    "#取特定药物下病例的药敏数据\n",
    "y_target = y_data.iloc[0::24]"
   ]
  },
  {
   "cell_type": "code",
   "execution_count": 12,
   "metadata": {},
   "outputs": [
    {
     "data": {
      "text/plain": [
       "(54, 2)"
      ]
     },
     "execution_count": 12,
     "metadata": {},
     "output_type": "execute_result"
    }
   ],
   "source": [
    "y_target.shape"
   ]
  },
  {
   "cell_type": "code",
   "execution_count": 13,
   "metadata": {},
   "outputs": [],
   "source": [
    "#y_target.info()"
   ]
  },
  {
   "cell_type": "code",
   "execution_count": 14,
   "metadata": {},
   "outputs": [],
   "source": [
    "def fun(x):\n",
    "    if(x=='高度敏感'):\n",
    "        return 3\n",
    "    if(x=='中度敏感'):\n",
    "        return 2\n",
    "    if(x=='低度敏感'):\n",
    "        return 1\n",
    "    else:\n",
    "        return 0\n",
    "\n",
    "def delete_name(x):\n",
    "    lists = x.split(' ')\n",
    "    return lists[0]"
   ]
  },
  {
   "cell_type": "code",
   "execution_count": 15,
   "metadata": {},
   "outputs": [
    {
     "name": "stderr",
     "output_type": "stream",
     "text": [
      "c:\\users\\86300\\pycharmprojects\\aml\\venv\\lib\\site-packages\\ipykernel_launcher.py:2: SettingWithCopyWarning: \n",
      "A value is trying to be set on a copy of a slice from a DataFrame.\n",
      "Try using .loc[row_indexer,col_indexer] = value instead\n",
      "\n",
      "See the caveats in the documentation: http://pandas.pydata.org/pandas-docs/stable/user_guide/indexing.html#returning-a-view-versus-a-copy\n",
      "  \n"
     ]
    }
   ],
   "source": [
    "#敏感度(sensity) 中文-数值 替换\n",
    "y_target['sensity'] = y_target['sensity'].apply(lambda x: fun(x))"
   ]
  },
  {
   "cell_type": "code",
   "execution_count": 16,
   "metadata": {},
   "outputs": [
    {
     "name": "stderr",
     "output_type": "stream",
     "text": [
      "c:\\users\\86300\\pycharmprojects\\aml\\venv\\lib\\site-packages\\ipykernel_launcher.py:2: SettingWithCopyWarning: \n",
      "A value is trying to be set on a copy of a slice from a DataFrame.\n",
      "Try using .loc[row_indexer,col_indexer] = value instead\n",
      "\n",
      "See the caveats in the documentation: http://pandas.pydata.org/pandas-docs/stable/user_guide/indexing.html#returning-a-view-versus-a-copy\n",
      "  \n"
     ]
    }
   ],
   "source": [
    "#只保留病例的id，去掉名字\n",
    "y_target['name'] = y_target['name'].apply(lambda x: delete_name(x))"
   ]
  },
  {
   "cell_type": "code",
   "execution_count": 17,
   "metadata": {},
   "outputs": [],
   "source": [
    "y_target.set_index([\"name\"],inplace=True)\n",
    "#y_target"
   ]
  },
  {
   "cell_type": "code",
   "execution_count": 18,
   "metadata": {},
   "outputs": [],
   "source": [
    "#表合并\n",
    "total_data = x_reshape.join(y_target)"
   ]
  },
  {
   "cell_type": "code",
   "execution_count": 19,
   "metadata": {},
   "outputs": [],
   "source": [
    "#处理空值\n",
    "data_cleaned = total_data.fillna(value=0)"
   ]
  },
  {
   "cell_type": "code",
   "execution_count": 20,
   "metadata": {},
   "outputs": [
    {
     "data": {
      "text/plain": [
       "(66, 663828)"
      ]
     },
     "execution_count": 20,
     "metadata": {},
     "output_type": "execute_result"
    }
   ],
   "source": [
    "data_cleaned.shape"
   ]
  },
  {
   "cell_type": "code",
   "execution_count": 21,
   "metadata": {},
   "outputs": [],
   "source": [
    "data = data_cleaned.iloc[:,0:663827]"
   ]
  },
  {
   "cell_type": "code",
   "execution_count": 22,
   "metadata": {},
   "outputs": [],
   "source": [
    "#设置训练集&测试集\n",
    "Xtrain, Xtest, Ytrain, Ytest = train_test_split(data, data_cleaned['sensity'], test_size=0.4) "
   ]
  },
  {
   "cell_type": "code",
   "execution_count": 23,
   "metadata": {},
   "outputs": [],
   "source": [
    "clf = DecisionTreeClassifier(\n",
    "                            #criterion=\"entropy\"\n",
    "                             #,random_state=50\n",
    "                            )\n",
    "#rfc = RandomForestClassifier(random_state=0)\n",
    "\n",
    "clf = clf.fit(Xtrain, Ytrain)\n",
    "#rfc = rfc.fit(Xtrain, Ytrain)\n",
    "\n",
    "score_c = clf.score(Xtest, Ytest)\n",
    "#score_r = rfc.score(Xtest, Ytest)"
   ]
  },
  {
   "cell_type": "code",
   "execution_count": 24,
   "metadata": {},
   "outputs": [
    {
     "name": "stdout",
     "output_type": "stream",
     "text": [
      "single Tree:0.37037037037037035\n"
     ]
    }
   ],
   "source": [
    "#print(\"single Tree:{}\".format(score_c), \"Random Forest:{}\".format(score_r))\n",
    "print(\"single Tree:{}\".format(score_c))"
   ]
  },
  {
   "cell_type": "code",
   "execution_count": 28,
   "metadata": {},
   "outputs": [],
   "source": [
    "from sklearn.model_selection import cross_val_score\n",
    "import matplotlib.pyplot as plt"
   ]
  },
  {
   "cell_type": "code",
   "execution_count": 29,
   "metadata": {},
   "outputs": [],
   "source": [
    "#rfc = RandomForestClassifier(n_estimators=25)\n",
    "#rfc_s = cross_val_score(rfc, data, data_cleaned['sensity'], cv=10)\n",
    "#clf = DecisionTreeClassifier()\n",
    "#clf_s = cross_val_score(clf, data, data_cleaned['sensity'], cv=10)"
   ]
  },
  {
   "cell_type": "code",
   "execution_count": 30,
   "metadata": {},
   "outputs": [],
   "source": [
    "#plt.plot(range(1,11),rfc_s,label=\"Randomforest\")\n",
    "#plt.plot(range(1,11),clf_s,label=\"Decision Tree\")\n",
    "#plt.legend()\n",
    "#plt.show()"
   ]
  },
  {
   "cell_type": "code",
   "execution_count": null,
   "metadata": {
    "collapsed": true
   },
   "outputs": [],
   "source": []
  }
 ],
 "metadata": {
  "kernelspec": {
   "display_name": "Python 3",
   "language": "python",
   "name": "python3"
  },
  "language_info": {
   "codemirror_mode": {
    "name": "ipython",
    "version": 3
   },
   "file_extension": ".py",
   "mimetype": "text/x-python",
   "name": "python",
   "nbconvert_exporter": "python",
   "pygments_lexer": "ipython3",
   "version": "3.6.8"
  }
 },
 "nbformat": 4,
 "nbformat_minor": 2
}
