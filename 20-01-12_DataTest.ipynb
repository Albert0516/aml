{
 "cells": [
  {
   "cell_type": "code",
   "execution_count": 1,
   "metadata": {},
   "outputs": [],
   "source": [
    "import pandas as pd\n",
    "import numpy as py\n",
    "from sklearn.ensemble import RandomForestClassifier\n",
    "from sklearn.tree import DecisionTreeClassifier\n",
    "from sklearn.model_selection import train_test_split"
   ]
  },
  {
   "cell_type": "code",
   "execution_count": 2,
   "metadata": {},
   "outputs": [
    {
     "name": "stderr",
     "output_type": "stream",
     "text": [
      "c:\\users\\23303\\pycharmprojects\\deel\\venv\\lib\\site-packages\\IPython\\core\\interactiveshell.py:3051: DtypeWarning: Columns (0,1,2,3,4,5,6,7,8,9,10,11,12,13,14,15,16,17,18,19,20,21,22,23,24,25,26,27,28,29,30,31,32,33,34,35,36,37,38,39,40,41,42,43,44,45,46,47,48,49,50,51,52,53,54,55,56,57,58,59,60,61,62,63,64,65) have mixed types. Specify dtype option on import or set low_memory=False.\n",
      "  interactivity=interactivity, compiler=compiler, result=result)\n"
     ]
    }
   ],
   "source": [
    "x_data = pd.DataFrame(pd.read_csv('./Methylation.csv',header=0,index_col=66)) "
   ]
  },
  {
   "cell_type": "code",
   "execution_count": 4,
   "metadata": {},
   "outputs": [
    {
     "data": {
      "text/plain": [
       "(663828, 66)"
      ]
     },
     "execution_count": 4,
     "metadata": {},
     "output_type": "execute_result"
    }
   ],
   "source": [
    "x_data.shape"
   ]
  },
  {
   "cell_type": "code",
   "execution_count": 5,
   "metadata": {},
   "outputs": [
    {
     "data": {
      "text/html": [
       "<div>\n",
       "<style scoped>\n",
       "    .dataframe tbody tr th:only-of-type {\n",
       "        vertical-align: middle;\n",
       "    }\n",
       "\n",
       "    .dataframe tbody tr th {\n",
       "        vertical-align: top;\n",
       "    }\n",
       "\n",
       "    .dataframe thead th {\n",
       "        text-align: right;\n",
       "    }\n",
       "</style>\n",
       "<table border=\"1\" class=\"dataframe\">\n",
       "  <thead>\n",
       "    <tr style=\"text-align: right;\">\n",
       "      <th></th>\n",
       "      <th>047</th>\n",
       "      <th>048</th>\n",
       "      <th>049</th>\n",
       "      <th>050</th>\n",
       "      <th>014</th>\n",
       "      <th>015</th>\n",
       "      <th>019</th>\n",
       "      <th>025</th>\n",
       "      <th>030</th>\n",
       "      <th>032</th>\n",
       "      <th>...</th>\n",
       "      <th>061</th>\n",
       "      <th>062</th>\n",
       "      <th>71</th>\n",
       "      <th>063</th>\n",
       "      <th>064</th>\n",
       "      <th>066</th>\n",
       "      <th>067</th>\n",
       "      <th>068</th>\n",
       "      <th>069</th>\n",
       "      <th>070</th>\n",
       "    </tr>\n",
       "  </thead>\n",
       "  <tbody>\n",
       "    <tr>\n",
       "      <th>UCSC_RefGene_Name</th>\n",
       "      <td>ZPQ</td>\n",
       "      <td>ZL</td>\n",
       "      <td>HJ</td>\n",
       "      <td>XRE</td>\n",
       "      <td>YLK</td>\n",
       "      <td>LWG</td>\n",
       "      <td>LZY</td>\n",
       "      <td>YH</td>\n",
       "      <td>WFF</td>\n",
       "      <td>LQG</td>\n",
       "      <td>...</td>\n",
       "      <td>LPT</td>\n",
       "      <td>WHB</td>\n",
       "      <td>LYH</td>\n",
       "      <td>LLP</td>\n",
       "      <td>WBL</td>\n",
       "      <td>MHG</td>\n",
       "      <td>LXZ</td>\n",
       "      <td>NX</td>\n",
       "      <td>LX</td>\n",
       "      <td>WRY</td>\n",
       "    </tr>\n",
       "    <tr>\n",
       "      <th>PTPRS</th>\n",
       "      <td>0.939358638</td>\n",
       "      <td>0.932434087</td>\n",
       "      <td>0.948112616</td>\n",
       "      <td>0.939991017</td>\n",
       "      <td>0.862317569</td>\n",
       "      <td>0.950550763</td>\n",
       "      <td>0.937284138</td>\n",
       "      <td>0.951384892</td>\n",
       "      <td>0.928327357</td>\n",
       "      <td>0.93947409</td>\n",
       "      <td>...</td>\n",
       "      <td>0.949875815</td>\n",
       "      <td>0.943876912</td>\n",
       "      <td>0.933197703</td>\n",
       "      <td>0.913717822</td>\n",
       "      <td>0.932399674</td>\n",
       "      <td>0.952442836</td>\n",
       "      <td>0.924620177</td>\n",
       "      <td>0.931023226</td>\n",
       "      <td>0.934795515</td>\n",
       "      <td>0.941320698</td>\n",
       "    </tr>\n",
       "    <tr>\n",
       "      <th>ITPK1</th>\n",
       "      <td>0.030046451</td>\n",
       "      <td>0.016749009</td>\n",
       "      <td>0.023318525</td>\n",
       "      <td>0.019263045</td>\n",
       "      <td>0.024858933</td>\n",
       "      <td>0.010292215</td>\n",
       "      <td>0.026103025</td>\n",
       "      <td>0.010177044</td>\n",
       "      <td>0.124717897</td>\n",
       "      <td>0.040341021</td>\n",
       "      <td>...</td>\n",
       "      <td>0.012166418</td>\n",
       "      <td>0.024285992</td>\n",
       "      <td>0.022533176</td>\n",
       "      <td>0.016339051</td>\n",
       "      <td>0.021165142</td>\n",
       "      <td>0.016313082</td>\n",
       "      <td>0.013759298</td>\n",
       "      <td>0.027269948</td>\n",
       "      <td>0.008737204</td>\n",
       "      <td>0.011893034</td>\n",
       "    </tr>\n",
       "    <tr>\n",
       "      <th>JARID2</th>\n",
       "      <td>0.018400715</td>\n",
       "      <td>0.012394616</td>\n",
       "      <td>0.01303935</td>\n",
       "      <td>0.015816588</td>\n",
       "      <td>0.02114024</td>\n",
       "      <td>0.008638881</td>\n",
       "      <td>0.012000161</td>\n",
       "      <td>0.008537647</td>\n",
       "      <td>0.008195402</td>\n",
       "      <td>0.010201524</td>\n",
       "      <td>...</td>\n",
       "      <td>0.01540188</td>\n",
       "      <td>0.008074784</td>\n",
       "      <td>0.020028818</td>\n",
       "      <td>0.009835352</td>\n",
       "      <td>0.00974126</td>\n",
       "      <td>0.015745958</td>\n",
       "      <td>0.01512313</td>\n",
       "      <td>0.014067063</td>\n",
       "      <td>0.011909806</td>\n",
       "      <td>0.010303821</td>\n",
       "    </tr>\n",
       "    <tr>\n",
       "      <th>JARID2</th>\n",
       "      <td>0.018400715</td>\n",
       "      <td>0.012394616</td>\n",
       "      <td>0.01303935</td>\n",
       "      <td>0.015816588</td>\n",
       "      <td>0.02114024</td>\n",
       "      <td>0.008638881</td>\n",
       "      <td>0.012000161</td>\n",
       "      <td>0.008537647</td>\n",
       "      <td>0.008195402</td>\n",
       "      <td>0.010201524</td>\n",
       "      <td>...</td>\n",
       "      <td>0.01540188</td>\n",
       "      <td>0.008074784</td>\n",
       "      <td>0.020028818</td>\n",
       "      <td>0.009835352</td>\n",
       "      <td>0.00974126</td>\n",
       "      <td>0.015745958</td>\n",
       "      <td>0.01512313</td>\n",
       "      <td>0.014067063</td>\n",
       "      <td>0.011909806</td>\n",
       "      <td>0.010303821</td>\n",
       "    </tr>\n",
       "  </tbody>\n",
       "</table>\n",
       "<p>5 rows × 66 columns</p>\n",
       "</div>"
      ],
      "text/plain": [
       "                           047          048          049          050  \\\n",
       "UCSC_RefGene_Name          ZPQ           ZL           HJ          XRE   \n",
       "PTPRS              0.939358638  0.932434087  0.948112616  0.939991017   \n",
       "ITPK1              0.030046451  0.016749009  0.023318525  0.019263045   \n",
       "JARID2             0.018400715  0.012394616   0.01303935  0.015816588   \n",
       "JARID2             0.018400715  0.012394616   0.01303935  0.015816588   \n",
       "\n",
       "                           014          015          019          025  \\\n",
       "UCSC_RefGene_Name          YLK          LWG          LZY           YH   \n",
       "PTPRS              0.862317569  0.950550763  0.937284138  0.951384892   \n",
       "ITPK1              0.024858933  0.010292215  0.026103025  0.010177044   \n",
       "JARID2              0.02114024  0.008638881  0.012000161  0.008537647   \n",
       "JARID2              0.02114024  0.008638881  0.012000161  0.008537647   \n",
       "\n",
       "                           030          032  ...          061          062  \\\n",
       "UCSC_RefGene_Name          WFF          LQG  ...          LPT          WHB   \n",
       "PTPRS              0.928327357   0.93947409  ...  0.949875815  0.943876912   \n",
       "ITPK1              0.124717897  0.040341021  ...  0.012166418  0.024285992   \n",
       "JARID2             0.008195402  0.010201524  ...   0.01540188  0.008074784   \n",
       "JARID2             0.008195402  0.010201524  ...   0.01540188  0.008074784   \n",
       "\n",
       "                            71          063          064          066  \\\n",
       "UCSC_RefGene_Name          LYH          LLP          WBL          MHG   \n",
       "PTPRS              0.933197703  0.913717822  0.932399674  0.952442836   \n",
       "ITPK1              0.022533176  0.016339051  0.021165142  0.016313082   \n",
       "JARID2             0.020028818  0.009835352   0.00974126  0.015745958   \n",
       "JARID2             0.020028818  0.009835352   0.00974126  0.015745958   \n",
       "\n",
       "                           067          068          069          070  \n",
       "UCSC_RefGene_Name          LXZ           NX           LX          WRY  \n",
       "PTPRS              0.924620177  0.931023226  0.934795515  0.941320698  \n",
       "ITPK1              0.013759298  0.027269948  0.008737204  0.011893034  \n",
       "JARID2              0.01512313  0.014067063  0.011909806  0.010303821  \n",
       "JARID2              0.01512313  0.014067063  0.011909806  0.010303821  \n",
       "\n",
       "[5 rows x 66 columns]"
      ]
     },
     "execution_count": 5,
     "metadata": {},
     "output_type": "execute_result"
    }
   ],
   "source": [
    "x_data.head()"
   ]
  },
  {
   "cell_type": "code",
   "execution_count": 4,
   "metadata": {},
   "outputs": [],
   "source": [
    "#去除重复数据\n",
    "x_data = x_data.drop_duplicates(keep='first')"
   ]
  },
  {
   "cell_type": "code",
   "execution_count": 5,
   "metadata": {},
   "outputs": [
    {
     "data": {
      "text/plain": [
       "(598244, 66)"
      ]
     },
     "execution_count": 5,
     "metadata": {},
     "output_type": "execute_result"
    }
   ],
   "source": [
    "x_data.shape"
   ]
  },
  {
   "cell_type": "code",
   "execution_count": 6,
   "metadata": {},
   "outputs": [],
   "source": [
    "#以病人的id作为列索引.从第2行开始读取\n",
    "x_id = x_data.iloc[1:]"
   ]
  },
  {
   "cell_type": "code",
   "execution_count": 7,
   "metadata": {},
   "outputs": [],
   "source": [
    "#转置\n",
    "x_reshape=x_id.T"
   ]
  },
  {
   "cell_type": "code",
   "execution_count": 8,
   "metadata": {},
   "outputs": [
    {
     "data": {
      "text/plain": [
       "(66, 598243)"
      ]
     },
     "execution_count": 8,
     "metadata": {},
     "output_type": "execute_result"
    }
   ],
   "source": [
    "x_reshape.shape"
   ]
  },
  {
   "cell_type": "code",
   "execution_count": 9,
   "metadata": {},
   "outputs": [
    {
     "data": {
      "text/html": [
       "<div>\n",
       "<style scoped>\n",
       "    .dataframe tbody tr th:only-of-type {\n",
       "        vertical-align: middle;\n",
       "    }\n",
       "\n",
       "    .dataframe tbody tr th {\n",
       "        vertical-align: top;\n",
       "    }\n",
       "\n",
       "    .dataframe thead th {\n",
       "        text-align: right;\n",
       "    }\n",
       "</style>\n",
       "<table border=\"1\" class=\"dataframe\">\n",
       "  <thead>\n",
       "    <tr style=\"text-align: right;\">\n",
       "      <th></th>\n",
       "      <th>PTPRS</th>\n",
       "      <th>ITPK1</th>\n",
       "      <th>JARID2</th>\n",
       "      <th>NBPF20</th>\n",
       "      <th>MORF4L1</th>\n",
       "      <th>TBC1D24</th>\n",
       "      <th>OR8G1</th>\n",
       "      <th>PCSK2</th>\n",
       "      <th>PHIP</th>\n",
       "      <th>FAM212B</th>\n",
       "      <th>...</th>\n",
       "      <th>EDARADD</th>\n",
       "      <th>EMP2</th>\n",
       "      <th>BANP</th>\n",
       "      <th>TBCD</th>\n",
       "      <th>RNPS1</th>\n",
       "      <th>CHST6</th>\n",
       "      <th>SLC38A2</th>\n",
       "      <th>6-Mar</th>\n",
       "      <th>SYNJ1</th>\n",
       "      <th>NTN5</th>\n",
       "    </tr>\n",
       "  </thead>\n",
       "  <tbody>\n",
       "    <tr>\n",
       "      <th>047</th>\n",
       "      <td>0.939358638</td>\n",
       "      <td>0.030046451</td>\n",
       "      <td>0.018400715</td>\n",
       "      <td>0.97252672</td>\n",
       "      <td>0.725564722</td>\n",
       "      <td>0.900509671</td>\n",
       "      <td>0.981647151</td>\n",
       "      <td>0.916480236</td>\n",
       "      <td>0.978412943</td>\n",
       "      <td>0.494819711</td>\n",
       "      <td>...</td>\n",
       "      <td>0.00482993</td>\n",
       "      <td>0.968172</td>\n",
       "      <td>0.902462</td>\n",
       "      <td>0.910461</td>\n",
       "      <td>0.733044</td>\n",
       "      <td>0.315276</td>\n",
       "      <td>0.00950484</td>\n",
       "      <td>0.00968838</td>\n",
       "      <td>0.749168</td>\n",
       "      <td>0.963387</td>\n",
       "    </tr>\n",
       "    <tr>\n",
       "      <th>048</th>\n",
       "      <td>0.932434087</td>\n",
       "      <td>0.016749009</td>\n",
       "      <td>0.012394616</td>\n",
       "      <td>0.947042586</td>\n",
       "      <td>0.359462468</td>\n",
       "      <td>0.913342585</td>\n",
       "      <td>0.976811811</td>\n",
       "      <td>0.744905622</td>\n",
       "      <td>0.971850999</td>\n",
       "      <td>0.620048093</td>\n",
       "      <td>...</td>\n",
       "      <td>0.00750436</td>\n",
       "      <td>0.964142</td>\n",
       "      <td>0.789957</td>\n",
       "      <td>0.88849</td>\n",
       "      <td>0.732056</td>\n",
       "      <td>0.414313</td>\n",
       "      <td>0.0063113</td>\n",
       "      <td>0.0066306</td>\n",
       "      <td>0.79246</td>\n",
       "      <td>0.952832</td>\n",
       "    </tr>\n",
       "    <tr>\n",
       "      <th>049</th>\n",
       "      <td>0.948112616</td>\n",
       "      <td>0.023318525</td>\n",
       "      <td>0.01303935</td>\n",
       "      <td>0.970545077</td>\n",
       "      <td>0.664358528</td>\n",
       "      <td>0.817598465</td>\n",
       "      <td>0.953283771</td>\n",
       "      <td>0.833636216</td>\n",
       "      <td>0.976715541</td>\n",
       "      <td>0.631415691</td>\n",
       "      <td>...</td>\n",
       "      <td>0.010543</td>\n",
       "      <td>0.971285</td>\n",
       "      <td>0.770995</td>\n",
       "      <td>0.884876</td>\n",
       "      <td>0.723788</td>\n",
       "      <td>0.398355</td>\n",
       "      <td>0.00541983</td>\n",
       "      <td>0.00748246</td>\n",
       "      <td>0.810468</td>\n",
       "      <td>0.972101</td>\n",
       "    </tr>\n",
       "    <tr>\n",
       "      <th>050</th>\n",
       "      <td>0.939991017</td>\n",
       "      <td>0.019263045</td>\n",
       "      <td>0.015816588</td>\n",
       "      <td>0.967688823</td>\n",
       "      <td>0.587711466</td>\n",
       "      <td>0.838871016</td>\n",
       "      <td>0.916976496</td>\n",
       "      <td>0.609306212</td>\n",
       "      <td>0.991324436</td>\n",
       "      <td>0.673056754</td>\n",
       "      <td>...</td>\n",
       "      <td>0.0166246</td>\n",
       "      <td>0.968642</td>\n",
       "      <td>0.936802</td>\n",
       "      <td>0.892965</td>\n",
       "      <td>0.733599</td>\n",
       "      <td>0.426442</td>\n",
       "      <td>0.00244892</td>\n",
       "      <td>0.00867456</td>\n",
       "      <td>0.747421</td>\n",
       "      <td>0.94709</td>\n",
       "    </tr>\n",
       "    <tr>\n",
       "      <th>014</th>\n",
       "      <td>0.862317569</td>\n",
       "      <td>0.024858933</td>\n",
       "      <td>0.02114024</td>\n",
       "      <td>0.971281178</td>\n",
       "      <td>0.600037305</td>\n",
       "      <td>0.859663984</td>\n",
       "      <td>0.937143282</td>\n",
       "      <td>0.373480756</td>\n",
       "      <td>0.986424581</td>\n",
       "      <td>0.489202051</td>\n",
       "      <td>...</td>\n",
       "      <td>0.00709513</td>\n",
       "      <td>0.955842</td>\n",
       "      <td>0.930599</td>\n",
       "      <td>0.904201</td>\n",
       "      <td>0.743525</td>\n",
       "      <td>0.358386</td>\n",
       "      <td>0.00577477</td>\n",
       "      <td>0.0160836</td>\n",
       "      <td>0.852471</td>\n",
       "      <td>0.958893</td>\n",
       "    </tr>\n",
       "  </tbody>\n",
       "</table>\n",
       "<p>5 rows × 598243 columns</p>\n",
       "</div>"
      ],
      "text/plain": [
       "           PTPRS        ITPK1       JARID2       NBPF20      MORF4L1  \\\n",
       "047  0.939358638  0.030046451  0.018400715   0.97252672  0.725564722   \n",
       "048  0.932434087  0.016749009  0.012394616  0.947042586  0.359462468   \n",
       "049  0.948112616  0.023318525   0.01303935  0.970545077  0.664358528   \n",
       "050  0.939991017  0.019263045  0.015816588  0.967688823  0.587711466   \n",
       "014  0.862317569  0.024858933   0.02114024  0.971281178  0.600037305   \n",
       "\n",
       "         TBC1D24        OR8G1        PCSK2         PHIP      FAM212B  ...  \\\n",
       "047  0.900509671  0.981647151  0.916480236  0.978412943  0.494819711  ...   \n",
       "048  0.913342585  0.976811811  0.744905622  0.971850999  0.620048093  ...   \n",
       "049  0.817598465  0.953283771  0.833636216  0.976715541  0.631415691  ...   \n",
       "050  0.838871016  0.916976496  0.609306212  0.991324436  0.673056754  ...   \n",
       "014  0.859663984  0.937143282  0.373480756  0.986424581  0.489202051  ...   \n",
       "\n",
       "        EDARADD      EMP2      BANP      TBCD     RNPS1     CHST6     SLC38A2  \\\n",
       "047  0.00482993  0.968172  0.902462  0.910461  0.733044  0.315276  0.00950484   \n",
       "048  0.00750436  0.964142  0.789957   0.88849  0.732056  0.414313   0.0063113   \n",
       "049    0.010543  0.971285  0.770995  0.884876  0.723788  0.398355  0.00541983   \n",
       "050   0.0166246  0.968642  0.936802  0.892965  0.733599  0.426442  0.00244892   \n",
       "014  0.00709513  0.955842  0.930599  0.904201  0.743525  0.358386  0.00577477   \n",
       "\n",
       "          6-Mar     SYNJ1      NTN5  \n",
       "047  0.00968838  0.749168  0.963387  \n",
       "048   0.0066306   0.79246  0.952832  \n",
       "049  0.00748246  0.810468  0.972101  \n",
       "050  0.00867456  0.747421   0.94709  \n",
       "014   0.0160836  0.852471  0.958893  \n",
       "\n",
       "[5 rows x 598243 columns]"
      ]
     },
     "execution_count": 9,
     "metadata": {},
     "output_type": "execute_result"
    }
   ],
   "source": [
    "x_reshape.head()"
   ]
  },
  {
   "cell_type": "code",
   "execution_count": 10,
   "metadata": {},
   "outputs": [],
   "source": [
    "#x_reshape.info"
   ]
  },
  {
   "cell_type": "code",
   "execution_count": 11,
   "metadata": {},
   "outputs": [],
   "source": [
    "y_data = pd.DataFrame(pd.read_csv('./drug_sensity_num.csv',usecols=[4,5]))\n",
    "#y_data = pd.DataFrame(pd.read_csv('D:\\jupyter\\drug_sensity_num.csv'))"
   ]
  },
  {
   "cell_type": "code",
   "execution_count": 12,
   "metadata": {},
   "outputs": [
    {
     "data": {
      "text/html": [
       "<div>\n",
       "<style scoped>\n",
       "    .dataframe tbody tr th:only-of-type {\n",
       "        vertical-align: middle;\n",
       "    }\n",
       "\n",
       "    .dataframe tbody tr th {\n",
       "        vertical-align: top;\n",
       "    }\n",
       "\n",
       "    .dataframe thead th {\n",
       "        text-align: right;\n",
       "    }\n",
       "</style>\n",
       "<table border=\"1\" class=\"dataframe\">\n",
       "  <thead>\n",
       "    <tr style=\"text-align: right;\">\n",
       "      <th></th>\n",
       "      <th>sensity</th>\n",
       "      <th>name</th>\n",
       "    </tr>\n",
       "  </thead>\n",
       "  <tbody>\n",
       "    <tr>\n",
       "      <th>0</th>\n",
       "      <td>高度敏感</td>\n",
       "      <td>014 杨立柯</td>\n",
       "    </tr>\n",
       "    <tr>\n",
       "      <th>1</th>\n",
       "      <td>高度敏感</td>\n",
       "      <td>014 杨立柯</td>\n",
       "    </tr>\n",
       "    <tr>\n",
       "      <th>2</th>\n",
       "      <td>高度敏感</td>\n",
       "      <td>014 杨立柯</td>\n",
       "    </tr>\n",
       "    <tr>\n",
       "      <th>3</th>\n",
       "      <td>不敏感</td>\n",
       "      <td>014 杨立柯</td>\n",
       "    </tr>\n",
       "    <tr>\n",
       "      <th>4</th>\n",
       "      <td>低度敏感</td>\n",
       "      <td>014 杨立柯</td>\n",
       "    </tr>\n",
       "  </tbody>\n",
       "</table>\n",
       "</div>"
      ],
      "text/plain": [
       "  sensity     name\n",
       "0    高度敏感  014 杨立柯\n",
       "1    高度敏感  014 杨立柯\n",
       "2    高度敏感  014 杨立柯\n",
       "3     不敏感  014 杨立柯\n",
       "4    低度敏感  014 杨立柯"
      ]
     },
     "execution_count": 12,
     "metadata": {},
     "output_type": "execute_result"
    }
   ],
   "source": [
    "y_data.head()"
   ]
  },
  {
   "cell_type": "code",
   "execution_count": 13,
   "metadata": {},
   "outputs": [],
   "source": [
    "#取特定药物下病例的药敏数据\n",
    "y_target = y_data.iloc[1::24]"
   ]
  },
  {
   "cell_type": "code",
   "execution_count": 14,
   "metadata": {},
   "outputs": [],
   "source": [
    "#y_target"
   ]
  },
  {
   "cell_type": "code",
   "execution_count": 15,
   "metadata": {},
   "outputs": [],
   "source": [
    "#y_target.info()"
   ]
  },
  {
   "cell_type": "code",
   "execution_count": 16,
   "metadata": {},
   "outputs": [],
   "source": [
    "def fun(x):\n",
    "    if(x=='高度敏感'):\n",
    "        return 3\n",
    "    if(x=='中度敏感'):\n",
    "        return 2\n",
    "    if(x=='低度敏感'):\n",
    "        return 1\n",
    "    else:\n",
    "        return 0\n",
    "\n",
    "def delete_name(x):\n",
    "    lists = x.split(' ')\n",
    "    return lists[0]"
   ]
  },
  {
   "cell_type": "code",
   "execution_count": 17,
   "metadata": {},
   "outputs": [
    {
     "name": "stderr",
     "output_type": "stream",
     "text": [
      "c:\\users\\86300\\pycharmprojects\\aml\\venv\\lib\\site-packages\\ipykernel_launcher.py:2: SettingWithCopyWarning: \n",
      "A value is trying to be set on a copy of a slice from a DataFrame.\n",
      "Try using .loc[row_indexer,col_indexer] = value instead\n",
      "\n",
      "See the caveats in the documentation: http://pandas.pydata.org/pandas-docs/stable/user_guide/indexing.html#returning-a-view-versus-a-copy\n",
      "  \n"
     ]
    }
   ],
   "source": [
    "#敏感度(sensity) 中文-数值 替换\n",
    "y_target['sensity'] = y_target['sensity'].apply(lambda x: fun(x))"
   ]
  },
  {
   "cell_type": "code",
   "execution_count": 18,
   "metadata": {},
   "outputs": [
    {
     "name": "stderr",
     "output_type": "stream",
     "text": [
      "c:\\users\\86300\\pycharmprojects\\aml\\venv\\lib\\site-packages\\ipykernel_launcher.py:2: SettingWithCopyWarning: \n",
      "A value is trying to be set on a copy of a slice from a DataFrame.\n",
      "Try using .loc[row_indexer,col_indexer] = value instead\n",
      "\n",
      "See the caveats in the documentation: http://pandas.pydata.org/pandas-docs/stable/user_guide/indexing.html#returning-a-view-versus-a-copy\n",
      "  \n"
     ]
    }
   ],
   "source": [
    "#只保留病例的id，去掉名字\n",
    "y_target['name'] = y_target['name'].apply(lambda x: delete_name(x))"
   ]
  },
  {
   "cell_type": "code",
   "execution_count": 19,
   "metadata": {},
   "outputs": [],
   "source": [
    "y_target.set_index([\"name\"],inplace=True)\n",
    "#y_target"
   ]
  },
  {
   "cell_type": "code",
   "execution_count": 20,
   "metadata": {},
   "outputs": [],
   "source": [
    "#表合并\n",
    "total_data = x_reshape.join(y_target)"
   ]
  },
  {
   "cell_type": "code",
   "execution_count": 21,
   "metadata": {},
   "outputs": [],
   "source": [
    "#处理空值\n",
    "total_data = total_data.fillna(value=0)"
   ]
  },
  {
   "cell_type": "code",
   "execution_count": 23,
   "metadata": {},
   "outputs": [
    {
     "data": {
      "text/plain": [
       "(66, 598244)"
      ]
     },
     "execution_count": 23,
     "metadata": {},
     "output_type": "execute_result"
    }
   ],
   "source": [
    "total_data.shape"
   ]
  },
  {
   "cell_type": "code",
   "execution_count": 24,
   "metadata": {},
   "outputs": [],
   "source": [
    "data = total_data.iloc[:,0:598243]"
   ]
  },
  {
   "cell_type": "code",
   "execution_count": 26,
   "metadata": {},
   "outputs": [],
   "source": [
    "#data"
   ]
  },
  {
   "cell_type": "code",
   "execution_count": 27,
   "metadata": {},
   "outputs": [],
   "source": [
    "#设置训练集&测试集\n",
    "Xtrain, Xtest, Ytrain, Ytest = train_test_split(data, total_data['sensity'], test_size=0.35) "
   ]
  },
  {
   "cell_type": "code",
   "execution_count": 40,
   "metadata": {},
   "outputs": [
    {
     "name": "stdout",
     "output_type": "stream",
     "text": [
      "single Tree:0.5833333333333334\n"
     ]
    }
   ],
   "source": [
    "#决策树\n",
    "clf = DecisionTreeClassifier(\n",
    "                            criterion=\"entropy\"\n",
    "                            ,random_state=30\n",
    "                            ,splitter=\"random\"\n",
    "                            ,max_depth=4\n",
    "                            #,min_samples_leaf=2\n",
    "                            #,min_samples_split=2\n",
    "                            )\n",
    "clf = clf.fit(Xtrain, Ytrain)\n",
    "score_c = clf.score(Xtest, Ytest)\n",
    "\n",
    "print(\"single Tree:{}\".format(score_c))\n",
    "#print(\"single Tree:{}\".format(score_c), \"Random Forest:{}\".format(score_r))"
   ]
  },
  {
   "cell_type": "code",
   "execution_count": 33,
   "metadata": {},
   "outputs": [
    {
     "name": "stdout",
     "output_type": "stream",
     "text": [
      "Random Forest:0.625\n"
     ]
    }
   ],
   "source": [
    "#随机森林\n",
    "rfc = RandomForestClassifier(criterion=\"entropy\"\n",
    "                            ,random_state=30\n",
    "                             ,n_estimators=20\n",
    "                            )\n",
    "rfc = rfc.fit(Xtrain, Ytrain)\n",
    "score_r = rfc.score(Xtest, Ytest)\n",
    "\n",
    "print(\"Random Forest:{}\".format(score_r))\n",
    "#score_train = clf.score(Xtrain, Ytrain)\n",
    "#score_train"
   ]
  },
  {
   "cell_type": "code",
   "execution_count": 35,
   "metadata": {},
   "outputs": [
    {
     "name": "stdout",
     "output_type": "stream",
     "text": [
      "gene[7797] = 0.08298395355526927\n",
      "gene[188967] = 0.35291677733313576\n",
      "gene[484909] = 0.19495935994558944\n",
      "gene[525849] = 0.1244759303329039\n",
      "gene[551807] = 0.24466397883310162\n"
     ]
    }
   ],
   "source": [
    "features = clf.feature_importances_\n",
    "for index, name in enumerate(features):\n",
    "    if(name>0): \n",
    "        print('gene[{}] = {}'.format(index, name))"
   ]
  },
  {
   "cell_type": "code",
   "execution_count": 36,
   "metadata": {},
   "outputs": [],
   "source": [
    "#from sklearn.model_selection import cross_val_score\n",
    "#import matplotlib.pyplot as plt"
   ]
  },
  {
   "cell_type": "code",
   "execution_count": 37,
   "metadata": {},
   "outputs": [],
   "source": [
    "#rfc = RandomForestClassifier(n_estimators=25)\n",
    "#rfc_s = cross_val_score(rfc, data, data_cleaned['sensity'], cv=10)\n",
    "#clf = DecisionTreeClassifier()\n",
    "#clf_s = cross_val_score(clf, data, data_cleaned['sensity'], cv=10)"
   ]
  },
  {
   "cell_type": "code",
   "execution_count": 38,
   "metadata": {},
   "outputs": [],
   "source": [
    "#plt.plot(range(1,11),rfc_s,label=\"Randomforest\")\n",
    "#plt.plot(range(1,11),clf_s,label=\"Decision Tree\")\n",
    "#plt.legend()\n",
    "#plt.show()"
   ]
  },
  {
   "cell_type": "code",
   "execution_count": 39,
   "metadata": {},
   "outputs": [
    {
     "data": {
      "image/png": "[encoded data removed]",
      "text/plain": [
       "<Figure size 432x288 with 1 Axes>"
      ]
     },
     "metadata": {
      "needs_background": "light"
     },
     "output_type": "display_data"
    }
   ],
   "source": [
    "import matplotlib.pyplot as plt\n",
    "test = []\n",
    "for i in range(10):\n",
    "    clf = DecisionTreeClassifier(max_depth=i+1\n",
    "                                ,criterion=\"entropy\"\n",
    "                                ,random_state=30\n",
    "                                ,splitter=\"random\"\n",
    "                                )\n",
    "    clf = clf.fit(Xtrain, Ytrain)\n",
    "    score = clf.score(Xtest, Ytest)\n",
    "    test.append(score)\n",
    "plt.plot(range(1,11),test,color=\"red\",label=\"max_depth\")\n",
    "plt.legend()\n",
    "plt.show()"
   ]
  },
  {
   "cell_type": "code",
   "execution_count": 134,
   "metadata": {},
   "outputs": [
    {
     "data": {
      "text/plain": [
       "array([1, 1, 1, 3, 1, 3, 3, 1, 3, 5, 6, 1, 1, 3, 1, 6, 1, 3, 1, 5, 5, 1,\n",
       "       6, 1], dtype=int64)"
      ]
     },
     "execution_count": 134,
     "metadata": {},
     "output_type": "execute_result"
    }
   ],
   "source": [
    "#返回每个测试样本所在的叶子节点的索引\n",
    "clf.apply(Xtest)"
   ]
  },
  {
   "cell_type": "code",
   "execution_count": 135,
   "metadata": {},
   "outputs": [
    {
     "data": {
      "text/plain": [
       "array([0., 0., 0., 1., 0., 1., 1., 0., 1., 2., 2., 0., 0., 1., 0., 2., 0.,\n",
       "       1., 0., 2., 2., 0., 2., 0.])"
      ]
     },
     "execution_count": 135,
     "metadata": {},
     "output_type": "execute_result"
    }
   ],
   "source": [
    "#返回每个测试样本的分类/回归结果\n",
    "clf.predict(Xtest)"
   ]
  },
  {
   "cell_type": "code",
   "execution_count": 136,
   "metadata": {},
   "outputs": [
    {
     "data": {
      "text/plain": [
       "066    0.0\n",
       "011    0.0\n",
       "005    0.0\n",
       "019    1.0\n",
       "051    0.0\n",
       "40R    1.0\n",
       "001    1.0\n",
       "71     0.0\n",
       "023    1.0\n",
       "003    3.0\n",
       "015    3.0\n",
       "021    0.0\n",
       "027    0.0\n",
       "004    1.0\n",
       "061    0.0\n",
       "035    2.0\n",
       "063    0.0\n",
       "018    1.0\n",
       "045    0.0\n",
       "043    2.0\n",
       "025    2.0\n",
       "033    0.0\n",
       "007    2.0\n",
       "065    0.0\n",
       "Name: sensity, dtype: float64"
      ]
     },
     "execution_count": 136,
     "metadata": {},
     "output_type": "execute_result"
    }
   ],
   "source": [
    "Ytest"
   ]
  },
  {
   "cell_type": "code",
   "execution_count": null,
   "metadata": {},
   "outputs": [],
   "source": []
  }
 ],
 "metadata": {
  "kernelspec": {
   "display_name": "Python 3",
   "language": "python",
   "name": "python3"
  },
  "language_info": {
   "codemirror_mode": {
    "name": "ipython",
    "version": 3
   },
   "file_extension": ".py",
   "mimetype": "text/x-python",
   "name": "python",
   "nbconvert_exporter": "python",
   "pygments_lexer": "ipython3",
   "version": "3.6.8"
  }
 },
 "nbformat": 4,
 "nbformat_minor": 2
}
